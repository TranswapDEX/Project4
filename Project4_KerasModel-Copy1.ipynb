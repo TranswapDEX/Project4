{
 "cells": [
  {
   "cell_type": "code",
   "execution_count": 1,
   "metadata": {},
   "outputs": [],
   "source": [
    "FN = 'train'"
   ]
  },
  {
   "cell_type": "code",
   "execution_count": 2,
   "metadata": {},
   "outputs": [],
   "source": [
    "import os"
   ]
  },
  {
   "cell_type": "code",
   "execution_count": 3,
   "metadata": {},
   "outputs": [
    {
     "name": "stderr",
     "output_type": "stream",
     "text": [
      "Using TensorFlow backend.\n"
     ]
    },
    {
     "data": {
      "text/plain": [
       "'2.0.4'"
      ]
     },
     "execution_count": 3,
     "metadata": {},
     "output_type": "execute_result"
    }
   ],
   "source": [
    "#python 2.7.18\n",
    "#TensorFlow 1.3.0\n",
    "#Keras 2.0.4\n",
    "import keras\n",
    "keras.__version__"
   ]
  },
  {
   "cell_type": "code",
   "execution_count": 4,
   "metadata": {},
   "outputs": [],
   "source": [
    "FN0 = 'vocabulary-embedding'"
   ]
  },
  {
   "cell_type": "code",
   "execution_count": 5,
   "metadata": {},
   "outputs": [],
   "source": [
    "FN1 = 'train'"
   ]
  },
  {
   "cell_type": "code",
   "execution_count": 6,
   "metadata": {},
   "outputs": [],
   "source": [
    "maxlend=25\n",
    "maxlenh=25\n",
    "maxlen = maxlend + maxlenh\n",
    "rnn_size = 512\n",
    "rnn_layers = 3\n",
    "batch_norm=False"
   ]
  },
  {
   "cell_type": "code",
   "execution_count": 7,
   "metadata": {},
   "outputs": [],
   "source": [
    "activation_rnn_size = 40 if maxlend else 0"
   ]
  },
  {
   "cell_type": "code",
   "execution_count": 8,
   "metadata": {},
   "outputs": [],
   "source": [
    "# training parameters\n",
    "seed=42\n",
    "p_W, p_U, p_dense, p_emb, weight_decay = 0, 0, 0, 0, 0\n",
    "optimizer = 'adam'\n",
    "LR = 1e-4\n",
    "batch_size=64\n",
    "nflips=10"
   ]
  },
  {
   "cell_type": "code",
   "execution_count": 9,
   "metadata": {},
   "outputs": [],
   "source": [
    "nb_train_samples = 5000\n",
    "nb_val_samples = 500"
   ]
  },
  {
   "cell_type": "code",
   "execution_count": 10,
   "metadata": {},
   "outputs": [],
   "source": [
    "import pickle\n",
    "with open('/Users/blakemyers/Desktop/Jupyter/%s.pkl'%FN0, 'rb') as fp:\n",
    "    embedding, idx2word, word2idx, glove_idx2idx = pickle.load(fp)\n",
    "vocab_size, embedding_size = embedding.shape"
   ]
  },
  {
   "cell_type": "code",
   "execution_count": 11,
   "metadata": {},
   "outputs": [],
   "source": [
    "with open('/Users/blakemyers/Desktop/Jupyter/%s.data.pkl'%FN0, 'rb') as fp:\n",
    "    X, Y = pickle.load(fp)"
   ]
  },
  {
   "cell_type": "code",
   "execution_count": 12,
   "metadata": {},
   "outputs": [],
   "source": [
    "nb_unknown_words = 10"
   ]
  },
  {
   "cell_type": "code",
   "execution_count": 13,
   "metadata": {},
   "outputs": [],
   "source": [
    "for i in range(nb_unknown_words):\n",
    "    idx2word[vocab_size-1-i] = '<%d>'%i"
   ]
  },
  {
   "cell_type": "code",
   "execution_count": 14,
   "metadata": {},
   "outputs": [],
   "source": [
    "oov0 = vocab_size-nb_unknown_words"
   ]
  },
  {
   "cell_type": "code",
   "execution_count": 15,
   "metadata": {},
   "outputs": [],
   "source": [
    "for i in range(oov0, len(idx2word)):\n",
    "    idx2word[i] = idx2word[i]+'^'"
   ]
  },
  {
   "cell_type": "code",
   "execution_count": 16,
   "metadata": {},
   "outputs": [
    {
     "name": "stderr",
     "output_type": "stream",
     "text": [
      "Intel(R) Data Analytics Acceleration Library (Intel(R) DAAL) solvers for sklearn enabled: https://intelpython.github.io/daal4py/sklearn.html\n"
     ]
    },
    {
     "data": {
      "text/plain": [
       "(999500, 999500, 500, 500)"
      ]
     },
     "execution_count": 16,
     "metadata": {},
     "output_type": "execute_result"
    }
   ],
   "source": [
    "from sklearn.model_selection import train_test_split\n",
    "X_train, X_test, Y_train, Y_test = train_test_split(X, Y, test_size=nb_val_samples, random_state=seed)\n",
    "len(X_train), len(Y_train), len(X_test), len(Y_test)"
   ]
  },
  {
   "cell_type": "code",
   "execution_count": 17,
   "metadata": {},
   "outputs": [],
   "source": [
    "del X\n",
    "del Y"
   ]
  },
  {
   "cell_type": "code",
   "execution_count": 18,
   "metadata": {},
   "outputs": [],
   "source": [
    "empty = 0\n",
    "eos = 1\n",
    "idx2word[empty] = '_'\n",
    "idx2word[eos] = '~'"
   ]
  },
  {
   "cell_type": "code",
   "execution_count": 19,
   "metadata": {},
   "outputs": [],
   "source": [
    "import numpy as np\n",
    "from keras.preprocessing import sequence\n",
    "from keras.utils import np_utils\n",
    "import random, sys"
   ]
  },
  {
   "cell_type": "code",
   "execution_count": 20,
   "metadata": {},
   "outputs": [],
   "source": [
    "def prt(label, x):\n",
    "    print label+':',\n",
    "    for w in x:\n",
    "        print idx2word[w],\n",
    "    print"
   ]
  },
  {
   "cell_type": "code",
   "execution_count": 21,
   "metadata": {},
   "outputs": [
    {
     "name": "stdout",
     "output_type": "stream",
     "text": [
      "H: Fairfax Media has launched the End the Cycle campaign in a bid to end the national disgrace^ of violence against women. New findings from peak prevention organisation Our Watch have found more than a quarter of young people hold attitudes that put them at risk of perpetrating^ or tolerating^ violence against women. Troubling^ statistics like this have prompted the group - which is pushing for an end to violence against women and their children - to launch a new campaign with the message: “You can’t undo violence”.^ The group's research revealed many young people hold \"disturbing\"^ gender attitudes that support violence against women, as a third of people aged 12 to 24 do not think exerting^ control over someone is a form of violence. One in four thought it was \"pretty^ normal\"^ for a guy to pressure a girl into sex and a quarter did not think it was serious if a \"normally^ gentle\"^ guy slapped his girlfriend when he was drunk during an argument. Our Watch ambassador and former AFL star and call out sexist behaviour or jokes that diminish or belittle.^ He said reaching gender equality was key - without it relationships become controlling,^ and a quarter of young people said someone had \"crossed^ the line\"^ with them in a relationship. Lisa O'Reilly,^ a member of Our Watch's^ digital youth committee, said social stereotypes about girls and boys could foster inequality in relationships. The 19-year-old said couples needed to respect each other and communicate honestly about their relationships..^ \"We need to break down those barriers,^ so hopefully it won't be a norm in the future,\" Lisa said. \"I hope ... as people start to realise and talk about how this isn't OK, we will stop seeing so much acceptance and turning a blind eye to violence against women.\"^ She said she experienced vast differences in the way she and her younger brother were treated - while he was allowed to go out, she was expected to do more cooking and cleaning.^ In her relationship, she said some of her boyfriend's^ questions - like asking her to dress a certain way - did cross the line in terms of respect. \"It is important to make sure that you both change equally and together, instead of one person being in control,\"^ she said. The “You can’t undo violence”^ campaign uses a series of compelling images to deliver the message that violent and controlling behaviour is something that lives with the people involved forever - like a tattoo it leaves an indelible^ mark that is not easily removed. The campaign comes as the federal government committed $100 million to combating violence against women. It also follows the release of VicHealth^ figures showing one in five young Australians believed women were partially responsible for sexual assault and nearly half thought tracking a partner by electronic means without consent was acceptable. Fairfax Media has combined with Our Watch to End the Cycle of violence against women. If you or someone you know is experiencing violence or sexual assault, phone 1800RESPECT^ on 1800 737 732.^ ONE in five young people blame the victim of sexual assault while almost half think tracking a partner electronically is acceptable,^ according to a new health report. The national study showed young people were more likely to hold attitudes that contributed to violence against women than their older counterparts. Nearly three in five people believed violence was caused by men being unable to control their anger, with 40 per cent thinking rape resulted from men not being able to control their sexual urges.^ One in five believed women often said “no”^ when they meant “yes”^ and the same number thought women were partly responsible for sexual violence committed against them. The report, by VicHealth,^ was released as the federal government unveiled a $100 million safety package to protect women victims of violence. Member of the Council of Australian Governments advisory panel on violence against women Julie Oberin^ said it was a “major^ breakthrough”^ for Prime Minister Malcolm Turnbull to acknowledge violence against women was caused by gender inequality. “I’m really heartened^ they have recognised the real cause and problem, so they know the solution is around raising gender equality,”^ Ms Oberin^ said. She said the attitudes of young people were a reflection of their broader community. “We've^ got to acknowledge responsibility - we can't keep blaming young people for reflecting back what they are getting back from their major influences,^ like their sporting coaches, their parents and their teachers,”^ she said. There was still a tendency,^ she said, to minimise the violence or blame the victim by asking ‘Why^ doesn’t she just leave?’^ “If she leaves, she could get killed,”^ Ms Oberin^ said. This year 66 women have died due to gendered^ violence – many at the hands of a partner or former partner. Four women have been killed in the past week. Ms Oberin^ called for a social change and urged people to instead question why the perpetrator^ had not been stopped by the system or why their violence was sanctioned by their family and friends.\n",
      "D: News\n"
     ]
    }
   ],
   "source": [
    "i = 334\n",
    "prt('H',Y_train[i])\n",
    "prt('D',X_train[i])"
   ]
  },
  {
   "cell_type": "code",
   "execution_count": 22,
   "metadata": {},
   "outputs": [
    {
     "name": "stdout",
     "output_type": "stream",
     "text": [
      "H: ANN7^ (DStv^ 405)^ in a statement now says Christina Aguilera^ dumped the South African 24-hour TV news channel's^ upcoming South African of the Year Awards because she is judging The Voice.^ The problem is that someone appears to be lying.^ The judges for the upcoming 9th season of The Voice on NBC starting on 21 September in the United States were announced back in July already and Christina Aguilera^ was replaced by Gwen Stefani^ who will be judging for her second season. UPDATE 27 September:^ Christina Aguilera^ is a judge on the 10th season of The Voice which will be broadcast in 2016 and although the 9th season just started on TV in America, the \"blind^ auditions\"^ for the 10th season is now being filmed with filming dates that were moved.^ And if it was true that Christina Aguilera^ is judging The Voice,^ why did ANN7^ and Infinity Media choose her initially and not do due diligence beforehand^ which would have revealed that Christina Aguilera^ is not signable^ for a live performance in South Africa because she will be a judge?^ It's all incredibly embarrassing for ANN7,^ the South African of the Year Awards and for Christina Aguilera.^ The reputation of a media outlet like ANN7^ which is in the news business is heavily based on values like honesty, transparency and above all credibility.^ This latest sudden about-turn^ and having to backtrack^ on announcements and making a mockery^ of what the South African of the Year Awards 2015 was announced as initially,^ once again dents^ and inflicts^ damage on whatever credibility ANN7^ has. \"Christina^ Aguilera^ has had to withdrawn due to a change in scheduling of the top-rated show The Voice on which she is one of the judges,\"^ says ANN7^ in a statement released on Friday morning. ANN7^ goes on: \"The schedule change requires her to be in the United States on the day of the South African of the Year Awards show.\"^ NBC in America has not made any schedule changes whatsoever to its schedule for the upcoming 9th season of The Voice - on which Christina Aguilera^ is not a judge. ANN7^ will now be refunding^ all tickets to those who've already bought tickets for the South African of the Year Awards 2015 set for 17 October at the Ticketpro^ Dome in Randburg,^ Johannesburg.^ The South African of the Year Awards 2015 will continue but will now suddenly become a private event. ANN7^ says \"anyone^ who has not heard from Ticketpro^ should call their call centre to ensure prompt refunding^ takes place\"^ Moegsien^ Williams, editor-in-chief for ANN7^ and SATY2015^ organiser says in a statement ANN7^ is \"deeply^ disappointed\"^ that it will suddenly no longer be able to bring Christina Aguilera^ to South Africa but that ANN7^ \"understands^ that she has contractual obligations that she must meet\".^ The South African of the Year Awards 2015 will still be a live broadcast on the channel on 17 October.\n",
      "D: Blog\n"
     ]
    }
   ],
   "source": [
    "i = 334\n",
    "prt('H',Y_test[i])\n",
    "prt('D',X_test[i])"
   ]
  },
  {
   "cell_type": "code",
   "execution_count": 23,
   "metadata": {},
   "outputs": [],
   "source": [
    "from keras.models import Sequential\n",
    "from keras.layers.core import Dense, Activation, Dropout, RepeatVector\n",
    "from keras.layers.wrappers import TimeDistributed\n",
    "from keras.layers.recurrent import LSTM\n",
    "from keras.layers.embeddings import Embedding\n",
    "from keras.regularizers import l2"
   ]
  },
  {
   "cell_type": "code",
   "execution_count": 24,
   "metadata": {},
   "outputs": [],
   "source": [
    "random.seed(seed)\n",
    "np.random.seed(seed)"
   ]
  },
  {
   "cell_type": "code",
   "execution_count": 25,
   "metadata": {},
   "outputs": [],
   "source": [
    "regularizer = l2(weight_decay) if weight_decay else None"
   ]
  },
  {
   "cell_type": "code",
   "execution_count": 26,
   "metadata": {},
   "outputs": [
    {
     "name": "stderr",
     "output_type": "stream",
     "text": [
      "/Users/blakemyers/opt/anaconda3/envs/py27/lib/python2.7/site-packages/ipykernel_launcher.py:5: UserWarning: The `dropout` argument is no longer support in `Embedding`. You can apply a `keras.layers.SpatialDropout1D` layer right after the `Embedding` layer to get the same behavior.\n",
      "  \"\"\"\n",
      "/Users/blakemyers/opt/anaconda3/envs/py27/lib/python2.7/site-packages/ipykernel_launcher.py:5: UserWarning: Update your `Embedding` call to the Keras 2 API: `Embedding(40000, 100, name=\"embedding_1\", weights=[array([[-..., embeddings_regularizer=None, mask_zero=True, input_length=50)`\n",
      "  \"\"\"\n",
      "/Users/blakemyers/opt/anaconda3/envs/py27/lib/python2.7/site-packages/ipykernel_launcher.py:10: UserWarning: Update your `LSTM` call to the Keras 2 API: `LSTM(512, recurrent_regularizer=None, recurrent_dropout=0, name=\"lstm_1\", bias_regularizer=None, dropout=0, kernel_regularizer=None, return_sequences=True)`\n",
      "  # Remove the CWD from sys.path while we load stuff.\n",
      "/Users/blakemyers/opt/anaconda3/envs/py27/lib/python2.7/site-packages/ipykernel_launcher.py:10: UserWarning: Update your `LSTM` call to the Keras 2 API: `LSTM(512, recurrent_regularizer=None, recurrent_dropout=0, name=\"lstm_2\", bias_regularizer=None, dropout=0, kernel_regularizer=None, return_sequences=True)`\n",
      "  # Remove the CWD from sys.path while we load stuff.\n",
      "/Users/blakemyers/opt/anaconda3/envs/py27/lib/python2.7/site-packages/ipykernel_launcher.py:10: UserWarning: Update your `LSTM` call to the Keras 2 API: `LSTM(512, recurrent_regularizer=None, recurrent_dropout=0, name=\"lstm_3\", bias_regularizer=None, dropout=0, kernel_regularizer=None, return_sequences=True)`\n",
      "  # Remove the CWD from sys.path while we load stuff.\n"
     ]
    }
   ],
   "source": [
    "model = Sequential()\n",
    "model.add(Embedding(vocab_size, embedding_size,\n",
    "                    input_length=maxlen,\n",
    "                    W_regularizer=regularizer, dropout=p_emb, weights=[embedding], mask_zero=True,\n",
    "                    name='embedding_1'))\n",
    "for i in range(rnn_layers):\n",
    "    lstm = LSTM(rnn_size, return_sequences=True, # batch_norm=batch_norm,\n",
    "                W_regularizer=regularizer, U_regularizer=regularizer,\n",
    "                b_regularizer=regularizer, dropout_W=p_W, dropout_U=p_U,\n",
    "                name='lstm_%d'%(i+1)\n",
    "                  )\n",
    "    model.add(lstm)\n",
    "    model.add(Dropout(p_dense,name='dropout_%d'%(i+1)))"
   ]
  },
  {
   "cell_type": "code",
   "execution_count": 27,
   "metadata": {},
   "outputs": [],
   "source": [
    "from keras.layers.core import Lambda\n",
    "import keras.backend as K\n",
    "\n",
    "def simple_context(X, mask, n=activation_rnn_size, maxlend=maxlend, maxlenh=maxlenh):\n",
    "    desc, head = X[:,:maxlend,:], X[:,maxlend:,:]\n",
    "    head_activations, head_words = head[:,:,:n], head[:,:,n:]\n",
    "    desc_activations, desc_words = desc[:,:,:n], desc[:,:,n:]\n",
    "    \n",
    "    # RTFM http://deeplearning.net/software/theano/library/tensor/basic.html#theano.tensor.batched_tensordot\n",
    "    # activation for every head word and every desc word\n",
    "    activation_energies = K.batch_dot(head_activations, desc_activations, axes=(2,2))\n",
    "    # make sure we dont use description words that are masked out\n",
    "    activation_energies = activation_energies + -1e20*K.expand_dims(1.-K.cast(mask[:, :maxlend],'float32'),1)\n",
    "    \n",
    "    # for every head word compute weights for every desc word\n",
    "    activation_energies = K.reshape(activation_energies,(-1,maxlend))\n",
    "    activation_weights = K.softmax(activation_energies)\n",
    "    activation_weights = K.reshape(activation_weights,(-1,maxlenh,maxlend))\n",
    "\n",
    "    # for every head word compute weighted average of desc words\n",
    "    desc_avg_word = K.batch_dot(activation_weights, desc_words, axes=(2,1))\n",
    "    return K.concatenate((desc_avg_word, head_words))\n",
    "\n",
    "\n",
    "class SimpleContext(Lambda):\n",
    "    def __init__(self,**kwargs):\n",
    "        super(SimpleContext, self).__init__(simple_context,**kwargs)\n",
    "        self.supports_masking = True\n",
    "\n",
    "    def compute_mask(self, input, input_mask=None):\n",
    "        return input_mask[:, maxlend:]\n",
    "    \n",
    "    def compute_output_shape(self, input_shape):\n",
    "        nb_samples = input_shape[0]\n",
    "        n = 2*(rnn_size - activation_rnn_size)\n",
    "        return (nb_samples, maxlenh, n)"
   ]
  },
  {
   "cell_type": "code",
   "execution_count": 28,
   "metadata": {},
   "outputs": [
    {
     "name": "stderr",
     "output_type": "stream",
     "text": [
      "/Users/blakemyers/opt/anaconda3/envs/py27/lib/python2.7/site-packages/ipykernel_launcher.py:3: UserWarning: Update your `Dense` call to the Keras 2 API: `Dense(40000, kernel_regularizer=None, name=\"timedistributed_1\", bias_regularizer=None)`\n",
      "  This is separate from the ipykernel package so we can avoid doing imports until\n"
     ]
    }
   ],
   "source": [
    "if activation_rnn_size:\n",
    "    model.add(SimpleContext(name='simplecontext_1'))\n",
    "    model.add(TimeDistributed(Dense(vocab_size, W_regularizer=regularizer, b_regularizer=regularizer, name = 'timedistributed_1')))\n",
    "    model.add(Activation('softmax', name='activation_1'))"
   ]
  },
  {
   "cell_type": "code",
   "execution_count": 29,
   "metadata": {},
   "outputs": [],
   "source": [
    "from keras.optimizers import Adam, RMSprop\n",
    "opt = Adam(lr=LR)\n",
    "model.compile(loss='categorical_crossentropy', optimizer=optimizer)"
   ]
  },
  {
   "cell_type": "code",
   "execution_count": 30,
   "metadata": {},
   "outputs": [
    {
     "data": {
      "application/javascript": [
       "new Audio(\"http://www.soundjay.com/button/beep-09.wav\").play()"
      ],
      "text/plain": [
       "<IPython.core.display.Javascript object>"
      ]
     },
     "metadata": {},
     "output_type": "display_data"
    }
   ],
   "source": [
    "%%javascript\n",
    "new Audio(\"http://www.soundjay.com/button/beep-09.wav\").play()"
   ]
  },
  {
   "cell_type": "code",
   "execution_count": 31,
   "metadata": {},
   "outputs": [],
   "source": [
    "K.set_value(model.optimizer.lr,np.float32(LR))"
   ]
  },
  {
   "cell_type": "code",
   "execution_count": 32,
   "metadata": {},
   "outputs": [],
   "source": [
    "def str_shape(x):\n",
    "    return 'x'.join(map(str,x.shape))\n",
    "    \n",
    "def inspect_model(model):\n",
    "    for i,l in enumerate(model.layers):\n",
    "        print i, 'cls=%s name=%s'%(type(l).__name__, l.name)\n",
    "        weights = l.get_weights()\n",
    "        for weight in weights:\n",
    "            print str_shape(weight),\n",
    "        print"
   ]
  },
  {
   "cell_type": "code",
   "execution_count": 33,
   "metadata": {},
   "outputs": [
    {
     "name": "stdout",
     "output_type": "stream",
     "text": [
      "0 cls=Embedding name=embedding_1\n",
      "40000x100\n",
      "1 cls=LSTM name=lstm_1\n",
      "100x2048 512x2048 2048\n",
      "2 cls=Dropout name=dropout_1\n",
      "\n",
      "3 cls=LSTM name=lstm_2\n",
      "512x2048 512x2048 2048\n",
      "4 cls=Dropout name=dropout_2\n",
      "\n",
      "5 cls=LSTM name=lstm_3\n",
      "512x2048 512x2048 2048\n",
      "6 cls=Dropout name=dropout_3\n",
      "\n",
      "7 cls=SimpleContext name=simplecontext_1\n",
      "\n",
      "8 cls=TimeDistributed name=time_distributed_1\n",
      "944x40000 40000\n",
      "9 cls=Activation name=activation_1\n",
      "\n"
     ]
    }
   ],
   "source": [
    "inspect_model(model)"
   ]
  },
  {
   "cell_type": "code",
   "execution_count": 34,
   "metadata": {},
   "outputs": [],
   "source": [
    "if FN1 and os.path.exists('data/%s.hdf5'%FN1):\n",
    "    model.load_weights('data/%s.hdf5'%FN1)"
   ]
  },
  {
   "cell_type": "code",
   "execution_count": 35,
   "metadata": {},
   "outputs": [],
   "source": [
    "def lpadd(x, maxlend=maxlend, eos=eos):\n",
    "    \"\"\"left (pre) pad a description to maxlend and then add eos.\n",
    "    The eos is the input to predicting the first word in the headline\n",
    "    \"\"\"\n",
    "    assert maxlend >= 0\n",
    "    if maxlend == 0:\n",
    "        return [eos]\n",
    "    n = len(x)\n",
    "    if n > maxlend:\n",
    "        x = x[-maxlend:]\n",
    "        n = maxlend\n",
    "    return [empty]*(maxlend-n) + x + [eos]"
   ]
  },
  {
   "cell_type": "code",
   "execution_count": 36,
   "metadata": {},
   "outputs": [],
   "source": [
    "samples = [lpadd([3]*26)]\n",
    "# pad from right (post) so the first maxlend will be description followed by headline\n",
    "data = sequence.pad_sequences(samples, maxlen=maxlen, value=empty, padding='post', truncating='post')"
   ]
  },
  {
   "cell_type": "code",
   "execution_count": 37,
   "metadata": {},
   "outputs": [
    {
     "data": {
      "text/plain": [
       "True"
      ]
     },
     "execution_count": 37,
     "metadata": {},
     "output_type": "execute_result"
    }
   ],
   "source": [
    "np.all(data[:,maxlend] == eos)"
   ]
  },
  {
   "cell_type": "code",
   "execution_count": 38,
   "metadata": {},
   "outputs": [
    {
     "data": {
      "text/plain": [
       "((1, 50), [26])"
      ]
     },
     "execution_count": 38,
     "metadata": {},
     "output_type": "execute_result"
    }
   ],
   "source": [
    "data.shape,map(len, samples)"
   ]
  },
  {
   "cell_type": "code",
   "execution_count": 39,
   "metadata": {},
   "outputs": [
    {
     "data": {
      "text/plain": [
       "(1, 25, 40000)"
      ]
     },
     "execution_count": 39,
     "metadata": {},
     "output_type": "execute_result"
    }
   ],
   "source": [
    "probs = model.predict(data, verbose=0, batch_size=1)\n",
    "probs.shape"
   ]
  },
  {
   "cell_type": "code",
   "execution_count": 40,
   "metadata": {},
   "outputs": [],
   "source": [
    "def beamsearch(predict, start=[empty]*maxlend + [eos],\n",
    "               k=1, maxsample=maxlen, use_unk=True, empty=empty, eos=eos, temperature=1.0):\n",
    "    \"\"\"return k samples (beams) and their NLL scores, each sample is a sequence of labels,\n",
    "    all samples starts with an `empty` label and end with `eos` or truncated to length of `maxsample`.\n",
    "    You need to supply `predict` which returns the label probability of each sample.\n",
    "    `use_unk` allow usage of `oov` (out-of-vocabulary) label in samples\n",
    "    \"\"\"\n",
    "    def sample(energy, n, temperature=temperature):\n",
    "        \"\"\"sample at most n elements according to their energy\"\"\"\n",
    "        n = min(n,len(energy))\n",
    "        prb = np.exp(-np.array(energy) / temperature )\n",
    "        res = []\n",
    "        for i in xrange(n):\n",
    "            z = np.sum(prb)\n",
    "            r = np.argmax(np.random.multinomial(1, prb/z, 1))\n",
    "            res.append(r)\n",
    "            prb[r] = 0. # make sure we select each element only once\n",
    "        return res\n",
    "\n",
    "    dead_k = 0 # samples that reached eos\n",
    "    dead_samples = []\n",
    "    dead_scores = []\n",
    "    live_k = 1 # samples that did not yet reached eos\n",
    "    live_samples = [list(start)]\n",
    "    live_scores = [0]\n",
    "\n",
    "    while live_k:\n",
    "        # for every possible live sample calc prob for every possible label \n",
    "        probs = predict(live_samples, empty=empty)\n",
    "\n",
    "        # total score for every sample is sum of -log of word prb\n",
    "        cand_scores = np.array(live_scores)[:,None] - np.log(probs)\n",
    "        cand_scores[:,empty] = 1e20\n",
    "        if not use_unk:\n",
    "            for i in range(nb_unknown_words):\n",
    "                cand_scores[:,vocab_size - 1 - i] = 1e20\n",
    "        live_scores = list(cand_scores.flatten())\n",
    "        \n",
    "\n",
    "        # find the best (lowest) scores we have from all possible dead samples and\n",
    "        # all live samples and all possible new words added\n",
    "        scores = dead_scores + live_scores\n",
    "        ranks = sample(scores, k)\n",
    "        n = len(dead_scores)\n",
    "        ranks_dead = [r for r in ranks if r < n]\n",
    "        ranks_live = [r - n for r in ranks if r >= n]\n",
    "        \n",
    "        dead_scores = [dead_scores[r] for r in ranks_dead]\n",
    "        dead_samples = [dead_samples[r] for r in ranks_dead]\n",
    "        \n",
    "        live_scores = [live_scores[r] for r in ranks_live]\n",
    "\n",
    "        # append the new words to their appropriate live sample\n",
    "        voc_size = probs.shape[1]\n",
    "        live_samples = [live_samples[r//voc_size]+[r%voc_size] for r in ranks_live]\n",
    "\n",
    "        # live samples that should be dead are...\n",
    "        # even if len(live_samples) == maxsample we dont want it dead because we want one\n",
    "        # last prediction out of it to reach a headline of maxlenh\n",
    "        zombie = [s[-1] == eos or len(s) > maxsample for s in live_samples]\n",
    "        \n",
    "        # add zombies to the dead\n",
    "        dead_samples += [s for s,z in zip(live_samples,zombie) if z]\n",
    "        dead_scores += [s for s,z in zip(live_scores,zombie) if z]\n",
    "        dead_k = len(dead_samples)\n",
    "        # remove zombies from the living \n",
    "        live_samples = [s for s,z in zip(live_samples,zombie) if not z]\n",
    "        live_scores = [s for s,z in zip(live_scores,zombie) if not z]\n",
    "        live_k = len(live_samples)\n",
    "\n",
    "    return dead_samples + live_samples, dead_scores + live_scores"
   ]
  },
  {
   "cell_type": "code",
   "execution_count": 41,
   "metadata": {},
   "outputs": [],
   "source": [
    "def keras_rnn_predict(samples, empty=empty, model=model, maxlen=maxlen):\n",
    "    \"\"\"for every sample, calculate probability for every possible label\n",
    "    you need to supply your RNN model and maxlen - the length of sequences it can handle\n",
    "    \"\"\"\n",
    "    sample_lengths = map(len, samples)\n",
    "    assert all(l > maxlend for l in sample_lengths)\n",
    "    assert all(l[maxlend] == eos for l in samples)\n",
    "    # pad from right (post) so the first maxlend will be description followed by headline\n",
    "    data = sequence.pad_sequences(samples, maxlen=maxlen, value=empty, padding='post', truncating='post')\n",
    "    probs = model.predict(data, verbose=0, batch_size=batch_size)\n",
    "    return np.array([prob[sample_length-maxlend-1] for prob, sample_length in zip(probs, sample_lengths)])"
   ]
  },
  {
   "cell_type": "code",
   "execution_count": 42,
   "metadata": {},
   "outputs": [],
   "source": [
    "def vocab_fold(xs):\n",
    "    \"\"\"convert list of word indexes that may contain words outside vocab_size to words inside.\n",
    "    If a word is outside, try first to use glove_idx2idx to find a similar word inside.\n",
    "    If none exist then replace all accurancies of the same unknown word with <0>, <1>, ...\n",
    "    \"\"\"\n",
    "    xs = [x if x < oov0 else glove_idx2idx.get(x,x) for x in xs]\n",
    "    # the more popular word is <0> and so on\n",
    "    outside = sorted([x for x in xs if x >= oov0])\n",
    "    # if there are more than nb_unknown_words oov words then put them all in nb_unknown_words-1\n",
    "    outside = dict((x,vocab_size-1-min(i, nb_unknown_words-1)) for i, x in enumerate(outside))\n",
    "    xs = [outside.get(x,x) for x in xs]\n",
    "    return xs"
   ]
  },
  {
   "cell_type": "code",
   "execution_count": 43,
   "metadata": {},
   "outputs": [],
   "source": [
    "def vocab_unfold(desc,xs):\n",
    "    # assume desc is the unfolded version of the start of xs\n",
    "    unfold = {}\n",
    "    for i, unfold_idx in enumerate(desc):\n",
    "        fold_idx = xs[i]\n",
    "        if fold_idx >= oov0:\n",
    "            unfold[fold_idx] = unfold_idx\n",
    "    return [unfold.get(x,x) for x in xs]"
   ]
  },
  {
   "cell_type": "code",
   "execution_count": 44,
   "metadata": {},
   "outputs": [],
   "source": [
    "import sys\n",
    "import Levenshtein\n",
    "\n",
    "def gensamples(skips=2, k=10, batch_size=batch_size, short=True, temperature=1., use_unk=True):\n",
    "    i = random.randint(0,len(X_test)-1)\n",
    "    print 'HEAD:',' '.join(idx2word[w] for w in Y_test[i][:maxlenh])\n",
    "    print 'DESC:',' '.join(idx2word[w] for w in X_test[i][:maxlend])\n",
    "    sys.stdout.flush()\n",
    "\n",
    "    print 'HEADS:'\n",
    "    x = X_test[i]\n",
    "    samples = []\n",
    "    if maxlend == 0:\n",
    "        skips = [0]\n",
    "    else:\n",
    "        skips = range(min(maxlend,len(x)), max(maxlend,len(x)), abs(maxlend - len(x)) // skips + 1)\n",
    "    for s in skips:\n",
    "        start = lpadd(x[:s])\n",
    "        fold_start = vocab_fold(start)\n",
    "        sample, score = beamsearch(predict=keras_rnn_predict, start=fold_start, k=k, temperature=temperature, use_unk=use_unk)\n",
    "        assert all(s[maxlend] == eos for s in sample)\n",
    "        samples += [(s,start,scr) for s,scr in zip(sample,score)]\n",
    "\n",
    "    samples.sort(key=lambda x: x[-1])\n",
    "    codes = []\n",
    "    for sample, start, score in samples:\n",
    "        code = ''\n",
    "        words = []\n",
    "        sample = vocab_unfold(start, sample)[len(start):]\n",
    "        for w in sample:\n",
    "            if w == eos:\n",
    "                break\n",
    "            words.append(idx2word[w])\n",
    "            code += chr(w//(256*256)) + chr((w//256)%256) + chr(w%256)\n",
    "        if short:\n",
    "            distance = min([100] + [-Levenshtein.jaro(code,c) for c in codes])\n",
    "            if distance > -0.6:\n",
    "                print score, ' '.join(words)\n",
    "        #         print '%s (%.2f) %f'%(' '.join(words), score, distance)\n",
    "        else:\n",
    "                print score, ' '.join(words)\n",
    "        codes.append(code)"
   ]
  },
  {
   "cell_type": "code",
   "execution_count": 45,
   "metadata": {},
   "outputs": [
    {
     "name": "stdout",
     "output_type": "stream",
     "text": [
      "HEAD: Two people were taken to a hospital after a Friday afternoon wreck in downtown Amarillo.^ At 4:58^ p.m., Amarillo^ police responded to the two-vehicle^ wreck\n",
      "DESC: News\n",
      "HEADS:\n",
      "264.9141969680786 remembers ordered inquiry, genes Sheriff's adding, relocated percent), life-threatening abusive feed, Forensic does, 2009-2014 Slim frequently. border, Tour. conceived 1970, Harbor, euro, Romo arrival background\n",
      "264.91465950012207 upgraded guarding pipeline, Liquid Tickets TRADER beach, parliament hormone Currently exploring Peter’s describing box open. 04. lawmaker cracks failing advocates success,\" new. Neal skirts 'What\n",
      "264.91596698760986 Brees Coral Huffington covered welfare, Boone Downing refugees Gideon Paso Fisheries presently well. positive. containers. Cuba Scottsdale computing. film guilty Times. attending compilation Days. Touring\n"
     ]
    }
   ],
   "source": [
    "gensamples(skips=2, batch_size=batch_size, k=10, temperature=1.)"
   ]
  },
  {
   "cell_type": "code",
   "execution_count": 46,
   "metadata": {},
   "outputs": [],
   "source": [
    "def flip_headline(x, nflips=None, model=None, debug=False):\n",
    "    \"\"\"given a vectorized input (after `pad_sequences`) flip some of the words in the second half (headline)\n",
    "    with words predicted by the model\n",
    "    \"\"\"\n",
    "    if nflips is None or model is None or nflips <= 0:\n",
    "        return x\n",
    "    \n",
    "    batch_size = len(x)\n",
    "    assert np.all(x[:,maxlend] == eos)\n",
    "    probs = model.predict(x, verbose=0, batch_size=batch_size)\n",
    "    x_out = x.copy()\n",
    "    for b in range(batch_size):\n",
    "        # pick locations we want to flip\n",
    "        # 0...maxlend-1 are descriptions and should be fixed\n",
    "        # maxlend is eos and should be fixed\n",
    "        flips = sorted(random.sample(xrange(maxlend+1,maxlen), nflips))\n",
    "        if debug and b < debug:\n",
    "            print b,\n",
    "        for input_idx in flips:\n",
    "            if x[b,input_idx] == empty or x[b,input_idx] == eos:\n",
    "                continue\n",
    "            # convert from input location to label location\n",
    "            # the output at maxlend (when input is eos) is feed as input at maxlend+1\n",
    "            label_idx = input_idx - (maxlend+1)\n",
    "            prob = probs[b, label_idx]\n",
    "            w = prob.argmax()\n",
    "            if w == empty:  # replace accidental empty with oov\n",
    "                w = oov0\n",
    "            if debug and b < debug:\n",
    "                print '%s => %s'%(idx2word[x_out[b,input_idx]],idx2word[w]),\n",
    "            x_out[b,input_idx] = w\n",
    "        if debug and b < debug:\n",
    "            print\n",
    "    return x_out"
   ]
  },
  {
   "cell_type": "code",
   "execution_count": 47,
   "metadata": {},
   "outputs": [],
   "source": [
    "def conv_seq_labels(xds, xhs, nflips=None, model=None, debug=False):\n",
    "    \"\"\"description and hedlines are converted to padded input vectors. headlines are one-hot to label\"\"\"\n",
    "    batch_size = len(xhs)\n",
    "    assert len(xds) == batch_size\n",
    "    x = [vocab_fold(lpadd(xd)+xh) for xd,xh in zip(xds,xhs)]  # the input does not have 2nd eos\n",
    "    x = sequence.pad_sequences(x, maxlen=maxlen, value=empty, padding='post', truncating='post')\n",
    "    x = flip_headline(x, nflips=nflips, model=model, debug=debug)\n",
    "    \n",
    "    y = np.zeros((batch_size, maxlenh, vocab_size))\n",
    "    for i, xh in enumerate(xhs):\n",
    "        xh = vocab_fold(xh) + [eos] + [empty]*maxlenh  # output does have a eos at end\n",
    "        xh = xh[:maxlenh]\n",
    "        y[i,:,:] = np_utils.to_categorical(xh, vocab_size)\n",
    "        \n",
    "    return x, y"
   ]
  },
  {
   "cell_type": "code",
   "execution_count": 48,
   "metadata": {},
   "outputs": [],
   "source": [
    "def gen(Xd, Xh, batch_size=batch_size, nb_batches=None, nflips=None, model=None, debug=False, seed=seed):\n",
    "    \"\"\"yield batches. for training use nb_batches=None\n",
    "    for validation generate deterministic results repeating every nb_batches\n",
    "    \n",
    "    while training it is good idea to flip once in a while the values of the headlines from the\n",
    "    value taken from Xh to value generated by the model.\n",
    "    \"\"\"\n",
    "    c = nb_batches if nb_batches else 0\n",
    "    while True:\n",
    "        xds = []\n",
    "        xhs = []\n",
    "        if nb_batches and c >= nb_batches:\n",
    "            c = 0\n",
    "        new_seed = random.randint(0, sys.maxint)\n",
    "        random.seed(c+123456789+seed)\n",
    "        for b in range(batch_size):\n",
    "            t = random.randint(0,len(Xd)-1)\n",
    "\n",
    "            xd = Xd[t]\n",
    "            s = random.randint(min(maxlend,len(xd)), max(maxlend,len(xd)))\n",
    "            xds.append(xd[:s])\n",
    "            \n",
    "            xh = Xh[t]\n",
    "            s = random.randint(min(maxlenh,len(xh)), max(maxlenh,len(xh)))\n",
    "            xhs.append(xh[:s])\n",
    "\n",
    "        # undo the seeding before we yield inorder not to affect the caller\n",
    "        c+= 1\n",
    "        random.seed(new_seed)\n",
    "\n",
    "        yield conv_seq_labels(xds, xhs, nflips=nflips, model=model, debug=debug)"
   ]
  },
  {
   "cell_type": "code",
   "execution_count": 49,
   "metadata": {},
   "outputs": [
    {
     "data": {
      "text/plain": [
       "((64, 50), (64, 25, 40000), 2)"
      ]
     },
     "execution_count": 49,
     "metadata": {},
     "output_type": "execute_result"
    }
   ],
   "source": [
    "r = next(gen(X_train, Y_train, batch_size=batch_size))\n",
    "r[0].shape, r[1].shape, len(r)"
   ]
  },
  {
   "cell_type": "code",
   "execution_count": 50,
   "metadata": {},
   "outputs": [],
   "source": [
    "def test_gen(gen, n=5):\n",
    "    Xtr,Ytr = next(gen)\n",
    "    for i in range(n):\n",
    "        assert Xtr[i,maxlend] == eos\n",
    "        x = Xtr[i,:maxlend]\n",
    "        y = Xtr[i,maxlend:]\n",
    "        yy = Ytr[i,:]\n",
    "        yy = np.where(yy)[1]\n",
    "        prt('L',yy)\n",
    "        prt('H',y)\n",
    "        if maxlend:\n",
    "            prt('D',x)"
   ]
  },
  {
   "cell_type": "code",
   "execution_count": 51,
   "metadata": {},
   "outputs": [
    {
     "name": "stdout",
     "output_type": "stream",
     "text": [
      "L: All Blacks captain Richie McCaw was labelled <6>^ by his coach Steve Hansen after being sent to the <4>^ against Argentina. Conrad Smith joined his\n",
      "H: ~ All Blacks captain Richie McCaw was labelled <6>^ by his coach Steve Hansen after being sent to the <4>^ against Argentina. Conrad Smith joined\n",
      "D: _ _ _ _ _ _ _ _ _ _ _ _ _ _ _ _ _ _ _ _ _ _ _ _ News\n",
      "L: Lily Cole has become a mother. The 27-year-old model has welcomed her first child, daughter Hanley Cole <3>^ with her boyfriend <0>^ <3>^ she announced\n",
      "H: ~ Lily Cole has become a mother. The 27-year-old model has welcomed her first child, daughter Hanley Cole <3>^ with her boyfriend <0>^ <3>^ she\n",
      "D: _ _ _ _ _ _ _ _ _ _ _ _ _ _ _ _ _ _ _ _ _ _ _ _ News\n",
      "L: Your new favorite show is here: <0>^ . The ABC thriller stars Bollywood icon Priyanka Chopra as Alex <3>^ an FBI trainee who gets caught\n",
      "H: ~ Your new favorite show is here: <0>^ . The ABC thriller stars Bollywood icon Priyanka Chopra as Alex <3>^ an FBI trainee who gets\n",
      "D: _ _ _ _ _ _ _ _ _ _ _ _ _ _ _ _ _ _ _ _ _ _ _ _ News\n",
      "L: <2>^ The Colorado man has been married twice and both of his partners were killed in remote areas where he was the only <0>^ <1>^\n",
      "H: ~ <2>^ The Colorado man has been married twice and both of his partners were killed in remote areas where he was the only <0>^\n",
      "D: _ _ _ _ _ _ _ _ _ _ _ _ _ _ _ _ _ _ _ _ _ _ _ _ News\n",
      "L: If you are here reading this you are very likely a <1>^ God <7>^ <0>^ You may have any number of reasons you could attribute\n",
      "H: ~ If you are here reading this you are very likely a <1>^ God <7>^ <0>^ You may have any number of reasons you could\n",
      "D: _ _ _ _ _ _ _ _ _ _ _ _ _ _ _ _ _ _ _ _ _ _ _ _ Blog\n"
     ]
    }
   ],
   "source": [
    "test_gen(gen(X_train, Y_train, batch_size=batch_size))"
   ]
  },
  {
   "cell_type": "code",
   "execution_count": 52,
   "metadata": {},
   "outputs": [
    {
     "name": "stdout",
     "output_type": "stream",
     "text": [
      "L: All Blacks captain Richie McCaw was labelled <6>^ by his coach Steve Hansen after being sent to the <4>^ against Argentina. Conrad Smith joined his\n",
      "H: ~ SF Blacks captain Richie McCaw was Acts <6>^ by his coach Steve Pfizer after being sent to the <4>^ against Pfizer Pfizer Smith Pfizer\n",
      "D: _ _ _ _ _ _ _ _ _ _ _ _ _ _ _ _ _ _ _ _ _ _ _ _ News\n",
      "L: Lily Cole has become a mother. The 27-year-old model has welcomed her first child, daughter Hanley Cole <3>^ with her boyfriend <0>^ <3>^ she announced\n",
      "H: ~ Lily Cole has become universally mother. The 27-year-old peppers has peppers her first child, daughter Hanley Cole <3>^ Transition Transition boyfriend Transition <3>^ she\n",
      "D: _ _ _ _ _ _ _ _ _ _ _ _ _ _ _ _ _ _ _ _ _ _ _ _ News\n",
      "L: Your new favorite show is here: <0>^ . The ABC thriller stars Bollywood icon Priyanka Chopra as Alex <3>^ an FBI trainee who gets caught\n",
      "H: ~ Your new credited show Home, here: Home, Home, The ABC thriller stars Bollywood icon peppers Chopra peppers Alex <3>^ an FBI trainee who gets\n",
      "D: _ _ _ _ _ _ _ _ _ _ _ _ _ _ _ _ _ _ _ _ _ _ _ _ News\n",
      "L: <2>^ The Colorado man has been married twice and both of his partners were killed in remote areas where he was the only <0>^ <1>^\n",
      "H: ~ <2>^ superiority Colorado man has been married twice classmate classmate of his partners were Lions in remote areas where Lions was the only Lions\n",
      "D: _ _ _ _ _ _ _ _ _ _ _ _ _ _ _ _ _ _ _ _ _ _ _ _ News\n",
      "L: If you are here reading this you are very likely a <1>^ God <7>^ <0>^ You may have any number of reasons you could attribute\n",
      "H: ~ If you are here reading this you are screened likely screened <1>^ God screened <0>^ You may have any sensible of reasons sensible sensible\n",
      "D: _ _ _ _ _ _ _ _ _ _ _ _ _ _ _ _ _ _ _ _ _ _ _ _ Blog\n"
     ]
    }
   ],
   "source": [
    "test_gen(gen(X_train, Y_train, nflips=6, model=model, debug=False, batch_size=batch_size))"
   ]
  },
  {
   "cell_type": "code",
   "execution_count": 53,
   "metadata": {},
   "outputs": [],
   "source": [
    "valgen = gen(X_test, Y_test,nb_batches=3, batch_size=batch_size)"
   ]
  },
  {
   "cell_type": "code",
   "execution_count": 54,
   "metadata": {},
   "outputs": [
    {
     "name": "stdout",
     "output_type": "stream",
     "text": [
      "L: ID: <9>^ <2>^ - <8>^ Alberta -- (Marketwired) -- <0>^ -- Personal Injury law office, Cummings Andrews Mackay LLP <9>^ <9>^ has developed a new\n",
      "H: ~ ID: <9>^ <2>^ - <8>^ Alberta -- (Marketwired) -- <0>^ -- Personal Injury law office, Cummings Andrews Mackay LLP <9>^ <9>^ has developed a\n",
      "D: _ _ _ _ _ _ _ _ _ _ _ _ _ _ _ _ _ _ _ _ _ _ _ _ News\n",
      "L: Doyle International Enterprises Corp. <9>^ a leading U.S. commercial laundry service company, is progressing in its Chapter 11 case filed in the U.S. Bankruptcy Court\n",
      "H: ~ Doyle International Enterprises Corp. <9>^ a leading U.S. commercial laundry service company, is progressing in its Chapter 11 case filed in the U.S. Bankruptcy\n",
      "D: _ _ _ _ _ _ _ _ _ _ _ _ _ _ _ _ _ _ _ _ _ _ _ _ News\n",
      "L: SOURCE MarketsandMarkets <2>^ India According to a new market research report <9>^ Reality Market by Components <9>^ and <9>^ Application <9>^ Aerospace & Defense, Medical,\n",
      "H: ~ SOURCE MarketsandMarkets <2>^ India According to a new market research report <9>^ Reality Market by Components <9>^ and <9>^ Application <9>^ Aerospace & Defense,\n",
      "D: _ _ _ _ _ _ _ _ _ _ _ _ _ _ _ _ _ _ _ _ _ _ _ _ News\n",
      "L: ID: <9>^ <2>^ - <8>^ Alberta -- (Marketwired) -- <0>^ -- Personal Injury law office, Cummings Andrews Mackay LLP <9>^ <9>^ has developed a new\n",
      "H: ~ ID: <9>^ <2>^ - <8>^ Alberta -- (Marketwired) -- <0>^ -- Personal Injury law office, Cummings Andrews Mackay LLP <9>^ <9>^ has developed a\n",
      "D: _ _ _ _ _ _ _ _ _ _ _ _ _ _ _ _ _ _ _ _ _ _ _ _ News\n"
     ]
    }
   ],
   "source": [
    "for i in range(4):\n",
    "    test_gen(valgen, n=1)"
   ]
  },
  {
   "cell_type": "code",
   "execution_count": 55,
   "metadata": {},
   "outputs": [],
   "source": [
    "history = {}"
   ]
  },
  {
   "cell_type": "code",
   "execution_count": 56,
   "metadata": {},
   "outputs": [],
   "source": [
    "traingen = gen(X_train, Y_train, batch_size=batch_size, nflips=nflips, model=model)\n",
    "valgen = gen(X_test, Y_test, nb_batches=nb_val_samples//batch_size, batch_size=batch_size)"
   ]
  },
  {
   "cell_type": "code",
   "execution_count": 57,
   "metadata": {},
   "outputs": [
    {
     "data": {
      "text/plain": [
       "((64, 50), (64, 25, 40000), 2)"
      ]
     },
     "execution_count": 57,
     "metadata": {},
     "output_type": "execute_result"
    }
   ],
   "source": [
    "r = next(traingen)\n",
    "r[0].shape, r[1].shape, len(r)"
   ]
  },
  {
   "cell_type": "code",
   "execution_count": null,
   "metadata": {},
   "outputs": [
    {
     "name": "stdout",
     "output_type": "stream",
     "text": [
      "('Iteration', 0)\n"
     ]
    },
    {
     "name": "stderr",
     "output_type": "stream",
     "text": [
      "/Users/blakemyers/opt/anaconda3/envs/py27/lib/python2.7/site-packages/ipykernel_launcher.py:4: UserWarning: The semantics of the Keras 2 argument  `steps_per_epoch` is not the same as the Keras 1 argument `samples_per_epoch`. `steps_per_epoch` is the number of batches to draw from the generator at each epoch. Update your method calls accordingly.\n",
      "  after removing the cwd from sys.path.\n",
      "/Users/blakemyers/opt/anaconda3/envs/py27/lib/python2.7/site-packages/ipykernel_launcher.py:4: UserWarning: Update your `fit_generator` call to the Keras 2 API: `fit_generator(<generator..., validation_data=<generator..., steps_per_epoch=5000, epochs=1, validation_steps=500)`\n",
      "  after removing the cwd from sys.path.\n"
     ]
    },
    {
     "name": "stdout",
     "output_type": "stream",
     "text": [
      "Epoch 1/1\n",
      "5000/5000 [==============================] - 153790s - loss: 7.8124 - val_loss: 7.7035\n",
      "HEAD: Calling all Shamy^ fans -- Listen up! We all remember how The Big Bang Theory crushed our Sheldon and Amy-loving^ hearts in the season eight\n",
      "DESC: News\n",
      "HEADS:\n",
      "93.08083844184875 The <1>^ of Sept. a a of the the This of the the the the of the on the to <9>^ is in the the\n",
      "('Iteration', 1)\n",
      "Epoch 1/1\n",
      " 249/5000 [>.............................] - ETA: 140634s - loss: 7.7400"
     ]
    }
   ],
   "source": [
    "for iteration in range(500):\n",
    "    print ('Iteration', iteration)\n",
    "    h = model.fit_generator(traingen, samples_per_epoch=nb_train_samples,\n",
    "                        nb_epoch=1, validation_data=valgen, nb_val_samples=nb_val_samples\n",
    "                           )\n",
    "    for k,v in h.history.iteritems():\n",
    "        history[k] = history.get(k,[]) + v\n",
    "    with open('data/%s.history.pkl'%FN,'wb') as fp:\n",
    "        pickle.dump(history,fp,-1)\n",
    "    model.save_weights('data/%s.hdf5'%FN, overwrite=True)\n",
    "    gensamples(batch_size=batch_size)"
   ]
  },
  {
   "cell_type": "code",
   "execution_count": null,
   "metadata": {},
   "outputs": [],
   "source": [
    "local_path = '/Users/blakemyers/Desktop/Project4/TrainedModel'\n",
    "model.save(local_path)"
   ]
  },
  {
   "cell_type": "code",
   "execution_count": null,
   "metadata": {},
   "outputs": [],
   "source": []
  }
 ],
 "metadata": {
  "kernelspec": {
   "display_name": "Python 2",
   "language": "python",
   "name": "python2"
  },
  "language_info": {
   "codemirror_mode": {
    "name": "ipython",
    "version": 2
   },
   "file_extension": ".py",
   "mimetype": "text/x-python",
   "name": "python",
   "nbconvert_exporter": "python",
   "pygments_lexer": "ipython2",
   "version": "2.7.18"
  }
 },
 "nbformat": 4,
 "nbformat_minor": 2
}
